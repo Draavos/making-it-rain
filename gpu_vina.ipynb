{
  "nbformat": 4,
  "nbformat_minor": 0,
  "metadata": {
    "colab": {
      "provenance": [],
      "authorship_tag": "ABX9TyNLJH1vMK7vUsg+RFU5Q8nY",
      "include_colab_link": true
    },
    "kernelspec": {
      "name": "python3",
      "display_name": "Python 3"
    },
    "language_info": {
      "name": "python"
    },
    "accelerator": "GPU"
  },
  "cells": [
    {
      "cell_type": "markdown",
      "metadata": {
        "id": "view-in-github",
        "colab_type": "text"
      },
      "source": [
        "<a href=\"https://colab.research.google.com/github/Draavos/making-it-rain/blob/main/gpu_vina.ipynb\" target=\"_parent\"><img src=\"https://colab.research.google.com/assets/colab-badge.svg\" alt=\"Open In Colab\"/></a>"
      ]
    },
    {
      "cell_type": "code",
      "source": [
        "#@title Install software\n",
        "%%bash\n",
        "set -e\n",
        "# setup conda\n",
        "  if [ ! -f CONDA_READY ]; then\n",
        "    wget -qnc https://repo.anaconda.com/miniconda/Miniconda3-latest-Linux-x86_64.sh\n",
        "    bash Miniconda3-latest-Linux-x86_64.sh -bfp /usr/local 2>&1 1>/dev/null \n",
        "    rm Miniconda3-latest-Linux-x86_64.sh\n",
        "    touch CONDA_READY\n",
        "  fi\n",
        "conda install -q -y -c conda-forge -c anaconda numpy boost-cpp swig openbabel rdkit scipy 2>&1 1>/dev/null\n",
        "pip install meeko 2>&1 1>/dev/null\n",
        "pip install PyDrive 2>&1 1>/dev/null\n",
        "wget -qnc https://boostorg.jfrog.io/artifactory/main/release/1.80.0/source/boost_1_80_0.tar.gz\n",
        "tar -xf /content/boost_1_80_0.tar.gz 2>&1 1>/dev/null\n",
        "wget -qnc https://ccsb.scripps.edu/adfr/download/1028/ 2>&1 1>/dev/null\n",
        "mv index.html ADFRsuite_Linux-x86_64_1.0_install 2>&1 1>/dev/null\n",
        "chmod a+x ADFRsuite_Linux-x86_64_1.0_install 2>&1 1>/dev/null\n",
        "./ADFRsuite_Linux-x86_64_1.0_install --prefix /content --mode silent 2>&1 1>/dev/null\n",
        "tar -xf /content/ADFRsuite_x86_64Linux_1.0.tar.gz 2>&1 1>/dev/null\n",
        "cd /content/ADFRsuite_x86_64Linux_1.0\n",
        "yes y |./install.sh -d myFolder2 -c 1 2>&1 1>/dev/null \n",
        "cp \"/content/ADFRsuite_x86_64Linux_1.0/myFolder2/bin/pythonsh\" \"/bin\"\n",
        "cp \"/content/ADFRsuite_x86_64Linux_1.0/myFolder2/bin/prepare_receptor\" \"/bin\"\n",
        "cp \"/content/ADFRsuite_x86_64Linux_1.0/myFolder2/bin/prepare_ligand\" \"/bin\"\n",
        "cp \"/content/ADFRsuite_x86_64Linux_1.0/myFolder2/bin/autogrid4\" \"/bin\"\n",
        "cp \"/content/ADFRsuite_x86_64Linux_1.0/myFolder2/bin/agfr\" \"/bin\"\n",
        "cd /content\n",
        "mkdir /content/mydata\n",
        "git clone https://github.com/DeltaGroupNJUPT/Vina-GPU\n",
        "#### change directory in make -DOPENCL_1_2 /content/boost_1_80_0\n",
        "sed -i 's+../boost_1_77_0+/content/boost_1_80_0+g' /content/Vina-GPU/Makefile\n",
        "sed -i 's+DOPENCL_3_0+DOPENCL_1_2+g' /content/Vina-GPU/Makefile\n",
        "cd /content/Vina-GPU\n",
        "make source 2>&1 1>/dev/null\n",
        "cd /content"
      ],
      "metadata": {
        "cellView": "form",
        "id": "0eRfeUbHU7WL"
      },
      "execution_count": null,
      "outputs": []
    },
    {
      "cell_type": "code",
      "source": [
        "#@title **Please, provide the necessary input files below:** \n",
        "import sys\n",
        "sys.path.append('/usr/local/lib/python3.7/site-packages/')\n",
        "import os\n",
        "PDB_filename = 'rank11.pdb' #@param {type:\"string\"}\n",
        "ligand_filename = 'Conformer3D_CID_33042.sdf' #@param {type:\"string\"}\n",
        "ligand2_filename = 'ahba3d.sdf' #@param {type:\"string\"}\n",
        "ligand3_filename = '' #@param {type:\"string\"}\n",
        "\n",
        "workDir = '/content/mydata' #@param {type:\"string\"}\n",
        "\n",
        "pdb = os.path.join(workDir, str(PDB_filename))\n",
        "ligand = os.path.join(workDir, str(ligand_filename))\n",
        "ligand2 = os.path.join(workDir, str(ligand2_filename))\n",
        "ligand3 = os.path.join(workDir, str(ligand3_filename))\n",
        "\n",
        "pdb_check = os.path.exists(pdb)\n",
        "\n",
        "\n",
        "if pdb_check == True:\n",
        "    print(\"Files loaded succesfully! ;-)\")\n",
        "else:\n",
        "    print(\"ERROR! Check your input names and  path\")\n",
        "\n",
        "#@markdown ---"
      ],
      "metadata": {
        "cellView": "form",
        "id": "DxCZ89wRY_SU"
      },
      "execution_count": null,
      "outputs": []
    },
    {
      "cell_type": "code",
      "source": [
        "#@title **Prepare ligand:** \n",
        "pdb_out = os.path.join(workDir, \"pdb.pdbqt\")\n",
        "ligand1_out = os.path.join(workDir, \"ligand_in_1.pdbqt\")\n",
        "ligand2_out = os.path.join(workDir, \"ligand_in_2.pdbqt\")\n",
        "ligand3_out = os.path.join(workDir, \"ligand_in_3.pdbqt\")\n",
        "command0 = \"\"\"prepare_receptor\"\"\" + \" \"+ \"-r\" + \" \" + str(pdb) + \" \" +  \"-o\" + \" \" + str(pdb_out)\n",
        "command1 = \"\"\"mk_prepare_ligand.py\"\"\" + \" \"+ \"-i\" + \" \" + str(ligand) + \" \" +  \"-o\" + \" \" + str(ligand1_out)\n",
        "if (\"sdf\"or \"mol2\" or \"mol\") in ligand2:\n",
        "  command2 = \"\"\"mk_prepare_ligand.py\"\"\" + \" \"+ \"-i\" + \" \" + str(ligand2) + \" \" +  \"-o\" + \" \" + str(ligand2_out)\n",
        "  if (\"sdf\"or \"mol2\" or \"mol\") in ligand3:\n",
        "    command3 = \"\"\"mk_prepare_ligand.py\"\"\" + \" \"+ \"-i\" + \" \" + str(ligand3) + \" \" +  \"-o\" + \" \" + str(ligand3_out)\n",
        "  else:\n",
        "    command3=\"\"\n",
        "    ligand3_out= \"\"\n",
        "    print(\"ligand3 dont exist\")\n",
        "\n",
        "      \n",
        "else :\n",
        "  command3 = \"\"\n",
        "  command2 = \"\"\n",
        "  ligand3_out= \"\"\n",
        "  ligand2_out= \"\"\n",
        "  print(\"ligand2 and 3 dont exist\")\n",
        "original_stdout = sys.stdout\n",
        "\n",
        "with open('pdbqt.sh', 'w') as f:\n",
        "    sys.stdout = f # Change the standard output to the file we created.\n",
        "    print(command0)\n",
        "    print(command1)\n",
        "    print(command2)\n",
        "    print(command3)\n",
        "    sys.stdout = original_stdout # Reset the standard output to its original value\n",
        "!chmod 700 pdbqt.sh 2>&1 1>/dev/null\n",
        "!bash pdbqt.sh\n"
      ],
      "metadata": {
        "cellView": "form",
        "id": "fU8mEyqYi336"
      },
      "execution_count": null,
      "outputs": []
    },
    {
      "cell_type": "code",
      "metadata": {
        "id": "doUfFh1iA7Nj",
        "cellView": "form"
      },
      "source": [
        "#@title **Run:** \n",
        "result_out = os.path.join(workDir, \"result.pdbqt\")\n",
        "command6 = \"\"\"/content/Vina-GPU/Vina-GPU\"\"\" + \" \"+ \"--ligand\" + \" \" + str(ligand2_out) \n",
        "command5 = \"\"\"/content/Vina-GPU/Vina-GPU\"\"\" + \" \"+ \"--receptor\" + \" \" + str(pdb_out) + \" \" +  \"--ligand\" + \" \" + str(ligand1_out) +  \" \" + \"--center_x 0\" + \" \" + \"--center_y 0\" + \" \" + \"--center_z 0\" + \" \"+ \"--size_x 30\" + \" \" + \"--size_y 30\" + \" \" + \"--size_z 30\" +\" \" +\"--num_modes 30\"+\" \" + \"--out\" + \" \" + str(result_out)\n",
        "original_stdout = sys.stdout\n",
        "\n",
        "with open('run.sh', 'w') as f:\n",
        "    sys.stdout = f # Change the standard output to the file we created.\n",
        "    print(command5)\n",
        "    print(command6)\n",
        "\n",
        "    sys.stdout = original_stdout # Reset the standard output to its original value\n",
        "    sys.stdout = original_stdout # Reset the standard output to its original value\n",
        "!chmod 700 run.sh 2>&1 1>/dev/null\n",
        "!bash run.sh\n"
      ],
      "execution_count": null,
      "outputs": []
    },
    {
      "cell_type": "code",
      "source": [
        "!/content/Vina-GPU/Vina-GPU --help"
      ],
      "metadata": {
        "id": "NCJZXxmSgdWI"
      },
      "execution_count": null,
      "outputs": []
    }
  ]
}