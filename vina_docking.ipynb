{
  "nbformat": 4,
  "nbformat_minor": 0,
  "metadata": {
    "colab": {
      "provenance": [],
      "collapsed_sections": [],
      "authorship_tag": "ABX9TyOAK4LkIZy0g3Yl5h7C1LYH",
      "include_colab_link": true
    },
    "kernelspec": {
      "display_name": "Python 3",
      "name": "python3"
    },
    "language_info": {
      "name": "python"
    }
  },
  "cells": [
    {
      "cell_type": "markdown",
      "metadata": {
        "id": "view-in-github",
        "colab_type": "text"
      },
      "source": [
        "<a href=\"https://colab.research.google.com/github/Draavos/making-it-rain/blob/main/vina_docking.ipynb\" target=\"_parent\"><img src=\"https://colab.research.google.com/assets/colab-badge.svg\" alt=\"Open In Colab\"/></a>"
      ]
    },
    {
      "cell_type": "code",
      "metadata": {
        "id": "IpqbgEo8Yv47",
        "cellView": "form"
      },
      "source": [
        "#@title Comply with google driver for input and save data (optional)\n",
        "from pydrive.auth import GoogleAuth\n",
        "from pydrive.drive import GoogleDrive\n",
        "from google.colab import auth\n",
        "from oauth2client.client import GoogleCredentials\n",
        "auth.authenticate_user()\n",
        "gauth = GoogleAuth()\n",
        "gauth.credentials = GoogleCredentials.get_application_default()\n",
        "drive = GoogleDrive(gauth)"
      ],
      "execution_count": 2,
      "outputs": []
    },
    {
      "cell_type": "code",
      "source": [
        "#@title Install software\n",
        "%%bash\n",
        "set -e\n",
        "# setup conda\n",
        "  if [ ! -f CONDA_READY ]; then\n",
        "    wget -qnc https://repo.anaconda.com/miniconda/Miniconda3-latest-Linux-x86_64.sh\n",
        "    bash Miniconda3-latest-Linux-x86_64.sh -bfp /usr/local 2>&1 1>/dev/null \n",
        "    rm Miniconda3-latest-Linux-x86_64.sh\n",
        "    touch CONDA_READY\n",
        "  fi\n",
        "conda install -q -y -c conda-forge -c anaconda numpy boost-cpp swig openbabel rdkit scipy 2>&1 1>/dev/null\n",
        "pip install meeko 2>&1 1>/dev/null\n",
        "pip install PyDrive 2>&1 1>/dev/null\n",
        "wget -qnc https://ccsb.scripps.edu/adfr/download/1028/ 2>&1 1>/dev/null\n",
        "mv index.html ADFRsuite_Linux-x86_64_1.0_install 2>&1 1>/dev/null\n",
        "chmod a+x ADFRsuite_Linux-x86_64_1.0_install 2>&1 1>/dev/null\n",
        "./ADFRsuite_Linux-x86_64_1.0_install --prefix /content --mode silent 2>&1 1>/dev/null\n",
        "tar -xf /content/ADFRsuite_x86_64Linux_1.0.tar.gz 2>&1 1>/dev/null\n",
        "cd /content/ADFRsuite_x86_64Linux_1.0\n",
        "yes y |./install.sh -d myFolder2 -c 1 2>&1 1>/dev/null \n",
        "cp \"/content/ADFRsuite_x86_64Linux_1.0/myFolder2/bin/pythonsh\" \"/bin\"\n",
        "cp \"/content/ADFRsuite_x86_64Linux_1.0/myFolder2/bin/prepare_receptor\" \"/bin\"\n",
        "cp \"/content/ADFRsuite_x86_64Linux_1.0/myFolder2/bin/prepare_ligand\" \"/bin\"\n",
        "cp \"/content/ADFRsuite_x86_64Linux_1.0/myFolder2/bin/autogrid4\" \"/bin\"\n",
        "cp \"/content/ADFRsuite_x86_64Linux_1.0/myFolder2/bin/agfr\" \"/bin\"\n",
        "cd /content\n",
        "git clone https://github.com/ccsb-scripps/AutoDock-Vina.git 2>&1 1>/dev/null\n",
        "cp \"/content/ADFRsuite_x86_64Linux_1.0/myFolder2/bin/pythonsh\" \"/bin\"\n",
        "cd /content\n",
        "mkdir /content/mydata\n",
        "wget -qnc  https://github.com/ccsb-scripps/AutoDock-Vina/releases/download/v1.2.3/vina_1.2.3_linux_x86_64\n",
        "chmod a+x vina_1.2.3_linux_x86_64\n",
        "./vina_1.2.3_linux_x86_64 --version"
      ],
      "metadata": {
        "id": "ggiDQOjTSEmA",
        "colab": {
          "base_uri": "https://localhost:8080/"
        },
        "outputId": "b8baf736-6d56-4b29-8879-130cabf5010c",
        "cellView": "form"
      },
      "execution_count": 1,
      "outputs": [
        {
          "output_type": "stream",
          "name": "stdout",
          "text": [
            "\r  0%|          | 0/40 [00:00<?, ?it/s]\rExtracting : conda-4.12.0-py39h06a4308_0.conda:   0%|          | 0/40 [00:00<?, ?it/s]\rExtracting : conda-4.12.0-py39h06a4308_0.conda:   2%|▎         | 1/40 [00:00<00:23,  1.63it/s]\rExtracting : zlib-1.2.12-h7f8727e_1.conda:   2%|▎         | 1/40 [00:00<00:23,  1.63it/s]     \rExtracting : wheel-0.37.1-pyhd3eb1b0_0.conda:   5%|▌         | 2/40 [00:00<00:23,  1.63it/s]\rExtracting : openssl-1.1.1n-h7f8727e_0.conda:   8%|▊         | 3/40 [00:00<00:22,  1.63it/s]\rExtracting : readline-8.1.2-h7f8727e_1.conda:  10%|█         | 4/40 [00:00<00:22,  1.63it/s]\rExtracting : tqdm-4.63.0-pyhd3eb1b0_0.conda:  12%|█▎        | 5/40 [00:00<00:21,  1.63it/s] \rExtracting : _libgcc_mutex-0.1-main.conda:  15%|█▌        | 6/40 [00:00<00:20,  1.63it/s]  \rExtracting : ruamel_yaml-0.15.100-py39h27cfd23_0.conda:  18%|█▊        | 7/40 [00:00<00:20,  1.63it/s]\rExtracting : cffi-1.15.0-py39hd667e15_1.conda:  20%|██        | 8/40 [00:00<00:19,  1.63it/s]         \rExtracting : charset-normalizer-2.0.4-pyhd3eb1b0_0.conda:  22%|██▎       | 9/40 [00:00<00:19,  1.63it/s]\rExtracting : yaml-0.2.5-h7b6447c_0.conda:  25%|██▌       | 10/40 [00:00<00:18,  1.63it/s]               \rExtracting : pip-21.2.4-py39h06a4308_0.conda:  28%|██▊       | 11/40 [00:00<00:17,  1.63it/s]\rExtracting : conda-package-handling-1.8.1-py39h7f8727e_0.conda:  30%|███       | 12/40 [00:00<00:17,  1.63it/s]\rExtracting : ld_impl_linux-64-2.35.1-h7274673_9.conda:  32%|███▎      | 13/40 [00:00<00:16,  1.63it/s]         \rExtracting : ld_impl_linux-64-2.35.1-h7274673_9.conda:  35%|███▌      | 14/40 [00:00<00:01, 22.73it/s]\rExtracting : brotlipy-0.7.0-py39h27cfd23_1003.conda:  35%|███▌      | 14/40 [00:00<00:01, 22.73it/s]  \rExtracting : libgcc-ng-9.3.0-h5101ec6_17.conda:  38%|███▊      | 15/40 [00:00<00:01, 22.73it/s]     \rExtracting : six-1.16.0-pyhd3eb1b0_1.conda:  40%|████      | 16/40 [00:00<00:01, 22.73it/s]    \rExtracting : ca-certificates-2022.3.29-h06a4308_1.conda:  42%|████▎     | 17/40 [00:00<00:01, 22.73it/s]\rExtracting : ncurses-6.3-h7f8727e_2.conda:  45%|████▌     | 18/40 [00:01<00:00, 22.73it/s]              \rExtracting : ncurses-6.3-h7f8727e_2.conda:  48%|████▊     | 19/40 [00:01<00:01, 18.63it/s]\rExtracting : setuptools-61.2.0-py39h06a4308_0.conda:  48%|████▊     | 19/40 [00:01<00:01, 18.63it/s]\rExtracting : libgomp-9.3.0-h5101ec6_17.conda:  50%|█████     | 20/40 [00:01<00:01, 18.63it/s]       \rExtracting : tk-8.6.11-h1ccaba5_0.conda:  52%|█████▎    | 21/40 [00:01<00:01, 18.63it/s]     \rExtracting : idna-3.3-pyhd3eb1b0_0.conda:  55%|█████▌    | 22/40 [00:01<00:00, 18.63it/s]\rExtracting : pyopenssl-22.0.0-pyhd3eb1b0_0.conda:  57%|█████▊    | 23/40 [00:01<00:00, 18.63it/s]\rExtracting : pysocks-1.7.1-py39h06a4308_0.conda:  60%|██████    | 24/40 [00:01<00:00, 18.63it/s] \rExtracting : pysocks-1.7.1-py39h06a4308_0.conda:  62%|██████▎   | 25/40 [00:01<00:00, 20.19it/s]\rExtracting : xz-5.2.5-h7b6447c_0.conda:  62%|██████▎   | 25/40 [00:01<00:00, 20.19it/s]         \rExtracting : sqlite-3.38.2-hc218d9a_0.conda:  65%|██████▌   | 26/40 [00:01<00:00, 20.19it/s]\rExtracting : colorama-0.4.4-pyhd3eb1b0_0.conda:  68%|██████▊   | 27/40 [00:01<00:00, 20.19it/s]\rExtracting : urllib3-1.26.8-pyhd3eb1b0_0.conda:  70%|███████   | 28/40 [00:01<00:00, 20.19it/s]\rExtracting : pycosat-0.6.3-py39h27cfd23_0.conda:  72%|███████▎  | 29/40 [00:01<00:00, 20.19it/s]\rExtracting : pycosat-0.6.3-py39h27cfd23_0.conda:  75%|███████▌  | 30/40 [00:01<00:00, 22.96it/s]\rExtracting : cryptography-36.0.0-py39h9ce1e76_0.conda:  75%|███████▌  | 30/40 [00:01<00:00, 22.96it/s]\rExtracting : libffi-3.3-he6710b0_2.conda:  78%|███████▊  | 31/40 [00:01<00:00, 22.96it/s]             \rExtracting : certifi-2021.10.8-py39h06a4308_2.conda:  80%|████████  | 32/40 [00:01<00:00, 22.96it/s]\rExtracting : libstdcxx-ng-9.3.0-hd4cf53a_17.conda:  82%|████████▎ | 33/40 [00:01<00:00, 22.96it/s]  \rExtracting : libstdcxx-ng-9.3.0-hd4cf53a_17.conda:  85%|████████▌ | 34/40 [00:01<00:00, 19.49it/s]\rExtracting : requests-2.27.1-pyhd3eb1b0_0.conda:  85%|████████▌ | 34/40 [00:01<00:00, 19.49it/s]  \rExtracting : tzdata-2022a-hda174b7_0.conda:  88%|████████▊ | 35/40 [00:01<00:00, 19.49it/s]     \rExtracting : conda-content-trust-0.1.1-pyhd3eb1b0_0.conda:  90%|█████████ | 36/40 [00:01<00:00, 19.49it/s]\rExtracting : pycparser-2.21-pyhd3eb1b0_0.conda:  92%|█████████▎| 37/40 [00:01<00:00, 19.49it/s]           \rExtracting : python-3.9.12-h12debd9_0.conda:  95%|█████████▌| 38/40 [00:02<00:00, 19.49it/s]   \rExtracting : python-3.9.12-h12debd9_0.conda:  98%|█████████▊| 39/40 [00:02<00:00, 10.05it/s]\rExtracting : _openmp_mutex-4.5-1_gnu.tar.bz2:  98%|█████████▊| 39/40 [00:02<00:00, 10.05it/s]\r                                                                                             \rWARNING: Running pip as the 'root' user can result in broken permissions and conflicting behaviour with the system package manager. It is recommended to use a virtual environment instead: https://pip.pypa.io/warnings/venv\n",
            "WARNING: Running pip as the 'root' user can result in broken permissions and conflicting behaviour with the system package manager. It is recommended to use a virtual environment instead: https://pip.pypa.io/warnings/venv\n",
            "Cloning into 'AutoDock-Vina'...\n",
            "AutoDock Vina v1.2.3\n"
          ]
        }
      ]
    },
    {
      "cell_type": "code",
      "source": [
        "#@title **Please, provide the necessary input files below:** \n",
        "import sys\n",
        "sys.path.append('/usr/local/lib/python3.7/site-packages/')\n",
        "import os\n",
        "PDB_filename = 'rank11.pdb' #@param {type:\"string\"}\n",
        "ligand_filename = 'Conformer3D_CID_33042.sdf' #@param {type:\"string\"}\n",
        "ligand2_filename = 'ahba3d.sdf' #@param {type:\"string\"}\n",
        "ligand3_filename = '' #@param {type:\"string\"}\n",
        "\n",
        "workDir = '/content/mydata' #@param {type:\"string\"}\n",
        "\n",
        "pdb = os.path.join(workDir, str(PDB_filename))\n",
        "ligand = os.path.join(workDir, str(ligand_filename))\n",
        "ligand2 = os.path.join(workDir, str(ligand2_filename))\n",
        "ligand3 = os.path.join(workDir, str(ligand3_filename))\n",
        "\n",
        "pdb_check = os.path.exists(pdb)\n",
        "\n",
        "\n",
        "if pdb_check == True:\n",
        "    print(\"Files loaded succesfully! ;-)\")\n",
        "else:\n",
        "    print(\"ERROR! Check your input names and  path\")\n",
        "\n",
        "#@markdown ---"
      ],
      "metadata": {
        "colab": {
          "base_uri": "https://localhost:8080/"
        },
        "cellView": "form",
        "id": "DxCZ89wRY_SU",
        "outputId": "c339ff35-6ae7-4eac-98d9-99c216209e0e"
      },
      "execution_count": 6,
      "outputs": [
        {
          "output_type": "stream",
          "name": "stdout",
          "text": [
            "Files loaded succesfully! ;-)\n"
          ]
        }
      ]
    },
    {
      "cell_type": "code",
      "source": [
        "#@title **Prepare ligand:** \n",
        "pdb_out = os.path.join(workDir, \"pdb.pdbqt\")\n",
        "ligand1_out = os.path.join(workDir, \"ligand_in_1.pdbqt\")\n",
        "ligand2_out = os.path.join(workDir, \"ligand_in_2.pdbqt\")\n",
        "ligand3_out = os.path.join(workDir, \"ligand_in_3.pdbqt\")\n",
        "command0 = \"\"\"prepare_receptor\"\"\" + \" \"+ \"-r\" + \" \" + str(pdb) + \" \" +  \"-o\" + \" \" + str(pdb_out)\n",
        "command1 = \"\"\"mk_prepare_ligand.py\"\"\" + \" \"+ \"-i\" + \" \" + str(ligand) + \" \" +  \"-o\" + \" \" + str(ligand1_out)\n",
        "if (\"sdf\"or \"mol2\" or \"mol\") in ligand2:\n",
        "  command2 = \"\"\"mk_prepare_ligand.py\"\"\" + \" \"+ \"-i\" + \" \" + str(ligand2) + \" \" +  \"-o\" + \" \" + str(ligand2_out)\n",
        "  if (\"sdf\"or \"mol2\" or \"mol\") in ligand3:\n",
        "    command3 = \"\"\"mk_prepare_ligand.py\"\"\" + \" \"+ \"-i\" + \" \" + str(ligand3) + \" \" +  \"-o\" + \" \" + str(ligand3_out)\n",
        "  else:\n",
        "    command3=\"\"\n",
        "    ligand3_out= \"\"\n",
        "    print(\"ligand3 dont exist\")\n",
        "\n",
        "      \n",
        "else :\n",
        "  command3 = \"\"\n",
        "  command2 = \"\"\n",
        "  ligand3_out= \"\"\n",
        "  ligand2_out= \"\"\n",
        "  print(\"ligand2 and 3 dont exist\")\n",
        "original_stdout = sys.stdout\n",
        "\n",
        "with open('pdbqt.sh', 'w') as f:\n",
        "    sys.stdout = f # Change the standard output to the file we created.\n",
        "    print(command0)\n",
        "    print(command1)\n",
        "    print(command2)\n",
        "    print(command3)\n",
        "    sys.stdout = original_stdout # Reset the standard output to its original value\n",
        "!chmod 700 pdbqt.sh 2>&1 1>/dev/null\n",
        "!bash pdbqt.sh\n"
      ],
      "metadata": {
        "colab": {
          "base_uri": "https://localhost:8080/"
        },
        "cellView": "form",
        "id": "fU8mEyqYi336",
        "outputId": "468aee13-4efc-4777-fa34-84001734eae6"
      },
      "execution_count": 7,
      "outputs": [
        {
          "output_type": "stream",
          "name": "stdout",
          "text": [
            "ligand3 dont exist\n",
            "adding gasteiger charges to peptide\n"
          ]
        }
      ]
    },
    {
      "cell_type": "markdown",
      "source": [],
      "metadata": {
        "id": "n-3oJ3ERm4t_"
      }
    },
    {
      "cell_type": "code",
      "metadata": {
        "id": "doUfFh1iA7Nj",
        "colab": {
          "base_uri": "https://localhost:8080/"
        },
        "outputId": "d4d5e17f-ae25-42e6-da0f-b0c67aa65db6"
      },
      "source": [
        "#@title **Run:** \n",
        "result_out = os.path.join(workDir, \"result.pdbqt\")\n",
        "command5 = \"\"\"./vina_1.2.3_linux_x86_64\"\"\" + \" \"+ \"--receptor\" + \" \" + str(pdb_out) + \" \" +  \"--ligand\" + \" \" + str(ligand1_out) + \" \" + str(ligand2_out) +\" \" + str(ligand3_out) + \" \" + \"--center_x 0\" + \" \" + \"--center_y 0\" + \" \" + \"--center_z 0\" + \" \"+ \"--size_x 60\" + \" \" + \"--size_y 60\" + \" \" + \"--size_z 60\" +\" \" +\"--num_modes 30\"+\" \"+ \"--exhaustiveness 64\" + \" \" + \"--out\" + \" \" + str(result_out)\n",
        "original_stdout = sys.stdout\n",
        "\n",
        "with open('run.sh', 'w') as f:\n",
        "    sys.stdout = f # Change the standard output to the file we created.\n",
        "    print(command5)\n",
        "\n",
        "    sys.stdout = original_stdout # Reset the standard output to its original value\n",
        "    sys.stdout = original_stdout # Reset the standard output to its original value\n",
        "!chmod 700 run.sh 2>&1 1>/dev/null\n",
        "!bash run.sh\n"
      ],
      "execution_count": null,
      "outputs": [
        {
          "output_type": "stream",
          "name": "stdout",
          "text": [
            "AutoDock Vina v1.2.3\n",
            "#################################################################\n",
            "# If you used AutoDock Vina in your work, please cite:          #\n",
            "#                                                               #\n",
            "# J. Eberhardt, D. Santos-Martins, A. F. Tillack, and S. Forli  #\n",
            "# AutoDock Vina 1.2.0: New Docking Methods, Expanded Force      #\n",
            "# Field, and Python Bindings, J. Chem. Inf. Model. (2021)       #\n",
            "# DOI 10.1021/acs.jcim.1c00203                                  #\n",
            "#                                                               #\n",
            "# O. Trott, A. J. Olson,                                        #\n",
            "# AutoDock Vina: improving the speed and accuracy of docking    #\n",
            "# with a new scoring function, efficient optimization and       #\n",
            "# multithreading, J. Comp. Chem. (2010)                         #\n",
            "# DOI 10.1002/jcc.21334                                         #\n",
            "#                                                               #\n",
            "# Please see https://github.com/ccsb-scripps/AutoDock-Vina for  #\n",
            "# more information.                                             #\n",
            "#################################################################\n",
            "\n",
            "Scoring function : vina\n",
            "Rigid receptor: /content/mydata/pdb.pdbqt\n",
            "Ligands:\n",
            "  - /content/mydata/ligand_in_1.pdbqt\n",
            "  - /content/mydata/ligand_in_2.pdbqt\n",
            "Grid center: X 0 Y 0 Z 0\n",
            "Grid size  : X 60 Y 60 Z 60\n",
            "Grid space : 0.375\n",
            "Exhaustiveness: 64\n",
            "CPU: 0\n",
            "Verbosity: 1\n",
            "\n",
            "WARNING: Search space volume is greater than 27000 Angstrom^3 (See FAQ)\n",
            "Computing Vina grid ... done.\n",
            "Performing docking (random seed: -1543565144) ... \n",
            "0%   10   20   30   40   50   60   70   80   90   100%\n",
            "|----|----|----|----|----|----|----|----|----|----|\n",
            "*"
          ]
        }
      ]
    },
    {
      "cell_type": "code",
      "metadata": {
        "id": "8NTJImc-gCZc"
      },
      "source": [
        "##!pythonsh /content/AutoDock-Vina/example/autodock_scripts/prepare_gpf.py -l ahba3d.pdbqt -r btrh.pdbqt  -o btrh_ahba_test3.gpf"
      ],
      "execution_count": null,
      "outputs": []
    },
    {
      "cell_type": "code",
      "source": [
        "! ./vina_1.2.3_linux_x86_64 --receptor /content/btrh1_rigid.pdbqt --flex /content/btrh1_flex.pdbqt --ligand --ligand /content/mydata/ribo.pdbqt /content/mydata/ahba.pdbqt\\\n",
        "--center_x 0 --center_y 0 --center_z 0 --size_x 60 --size_x 60 --size_x 60 --num_modes 30  \\\n",
        "--exhaustiveness 64 --out /content/mydata/ribo_ahba_rank11.pdbqt"
      ],
      "metadata": {
        "id": "8X8wlW2xRAHh"
      },
      "execution_count": null,
      "outputs": []
    },
    {
      "cell_type": "code",
      "metadata": {
        "id": "zFr3o700MHOy",
        "colab": {
          "base_uri": "https://localhost:8080/",
          "height": 17
        },
        "outputId": "8d0fd46f-f718-45f6-b214-cffed2c1a3ff"
      },
      "source": [
        "from google.colab import files\n",
        "files.download(\"/content/mydata/result.pdbqt\")"
      ],
      "execution_count": 32,
      "outputs": [
        {
          "output_type": "display_data",
          "data": {
            "text/plain": [
              "<IPython.core.display.Javascript object>"
            ],
            "application/javascript": [
              "\n",
              "    async function download(id, filename, size) {\n",
              "      if (!google.colab.kernel.accessAllowed) {\n",
              "        return;\n",
              "      }\n",
              "      const div = document.createElement('div');\n",
              "      const label = document.createElement('label');\n",
              "      label.textContent = `Downloading \"${filename}\": `;\n",
              "      div.appendChild(label);\n",
              "      const progress = document.createElement('progress');\n",
              "      progress.max = size;\n",
              "      div.appendChild(progress);\n",
              "      document.body.appendChild(div);\n",
              "\n",
              "      const buffers = [];\n",
              "      let downloaded = 0;\n",
              "\n",
              "      const channel = await google.colab.kernel.comms.open(id);\n",
              "      // Send a message to notify the kernel that we're ready.\n",
              "      channel.send({})\n",
              "\n",
              "      for await (const message of channel.messages) {\n",
              "        // Send a message to notify the kernel that we're ready.\n",
              "        channel.send({})\n",
              "        if (message.buffers) {\n",
              "          for (const buffer of message.buffers) {\n",
              "            buffers.push(buffer);\n",
              "            downloaded += buffer.byteLength;\n",
              "            progress.value = downloaded;\n",
              "          }\n",
              "        }\n",
              "      }\n",
              "      const blob = new Blob(buffers, {type: 'application/binary'});\n",
              "      const a = document.createElement('a');\n",
              "      a.href = window.URL.createObjectURL(blob);\n",
              "      a.download = filename;\n",
              "      div.appendChild(a);\n",
              "      a.click();\n",
              "      div.remove();\n",
              "    }\n",
              "  "
            ]
          },
          "metadata": {}
        },
        {
          "output_type": "display_data",
          "data": {
            "text/plain": [
              "<IPython.core.display.Javascript object>"
            ],
            "application/javascript": [
              "download(\"download_7bad6960-122b-4d56-84a0-1fb447b95237\", \"result.pdbqt\", 71478)"
            ]
          },
          "metadata": {}
        }
      ]
    }
  ]
}